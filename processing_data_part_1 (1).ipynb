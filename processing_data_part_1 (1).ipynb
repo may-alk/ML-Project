{
 "cells": [
  {
   "cell_type": "markdown",
   "metadata": {},
   "source": [
    "xxxxx"
   ]
  },
  {
   "cell_type": "markdown",
   "metadata": {},
   "source": [
    "xxxxxx"
   ]
  },
  {
   "cell_type": "markdown",
   "metadata": {},
   "source": [
    "## Importing data"
   ]
  },
  {
   "cell_type": "code",
   "execution_count": 1,
   "metadata": {},
   "outputs": [],
   "source": [
    "# import libraries\n",
    "\n",
    "import pandas as pd\n",
    "import numpy as np\n",
    "import matplotlib.pyplot as plt\n",
    "import seaborn as sns\n",
    "\n",
    "from datetime import datetime\n",
    "\n",
    "%matplotlib inline"
   ]
  },
  {
   "cell_type": "code",
   "execution_count": 4,
   "metadata": {},
   "outputs": [
    {
     "data": {
      "text/plain": [
       "(322, 7)"
      ]
     },
     "execution_count": 4,
     "metadata": {},
     "output_type": "execute_result"
    }
   ],
   "source": [
    "airports = pd.read_csv('flight-delays/airports.csv')\n",
    "airports.shape"
   ]
  },
  {
   "cell_type": "code",
   "execution_count": 5,
   "metadata": {},
   "outputs": [
    {
     "data": {
      "text/html": [
       "<div>\n",
       "<style scoped>\n",
       "    .dataframe tbody tr th:only-of-type {\n",
       "        vertical-align: middle;\n",
       "    }\n",
       "\n",
       "    .dataframe tbody tr th {\n",
       "        vertical-align: top;\n",
       "    }\n",
       "\n",
       "    .dataframe thead th {\n",
       "        text-align: right;\n",
       "    }\n",
       "</style>\n",
       "<table border=\"1\" class=\"dataframe\">\n",
       "  <thead>\n",
       "    <tr style=\"text-align: right;\">\n",
       "      <th></th>\n",
       "      <th>IATA_CODE</th>\n",
       "      <th>AIRPORT</th>\n",
       "      <th>CITY</th>\n",
       "      <th>STATE</th>\n",
       "      <th>COUNTRY</th>\n",
       "      <th>LATITUDE</th>\n",
       "      <th>LONGITUDE</th>\n",
       "    </tr>\n",
       "  </thead>\n",
       "  <tbody>\n",
       "    <tr>\n",
       "      <th>0</th>\n",
       "      <td>ABE</td>\n",
       "      <td>Lehigh Valley International Airport</td>\n",
       "      <td>Allentown</td>\n",
       "      <td>PA</td>\n",
       "      <td>USA</td>\n",
       "      <td>40.65236</td>\n",
       "      <td>-75.4404</td>\n",
       "    </tr>\n",
       "  </tbody>\n",
       "</table>\n",
       "</div>"
      ],
      "text/plain": [
       "  IATA_CODE                              AIRPORT       CITY STATE COUNTRY  \\\n",
       "0       ABE  Lehigh Valley International Airport  Allentown    PA     USA   \n",
       "\n",
       "   LATITUDE  LONGITUDE  \n",
       "0  40.65236   -75.4404  "
      ]
     },
     "execution_count": 5,
     "metadata": {},
     "output_type": "execute_result"
    }
   ],
   "source": [
    "airports.head(1)"
   ]
  },
  {
   "cell_type": "code",
   "execution_count": 6,
   "metadata": {},
   "outputs": [
    {
     "name": "stderr",
     "output_type": "stream",
     "text": [
      "/anaconda3/lib/python3.7/site-packages/IPython/core/interactiveshell.py:3020: DtypeWarning: Columns (7,8) have mixed types. Specify dtype option on import or set low_memory=False.\n",
      "  interactivity=interactivity, compiler=compiler, result=result)\n"
     ]
    },
    {
     "data": {
      "text/plain": [
       "(5819079, 31)"
      ]
     },
     "execution_count": 6,
     "metadata": {},
     "output_type": "execute_result"
    }
   ],
   "source": [
    "flights = pd.read_csv('flight-delays/flights.csv')\n",
    "flights.shape"
   ]
  },
  {
   "cell_type": "code",
   "execution_count": 7,
   "metadata": {},
   "outputs": [
    {
     "data": {
      "text/html": [
       "<div>\n",
       "<style scoped>\n",
       "    .dataframe tbody tr th:only-of-type {\n",
       "        vertical-align: middle;\n",
       "    }\n",
       "\n",
       "    .dataframe tbody tr th {\n",
       "        vertical-align: top;\n",
       "    }\n",
       "\n",
       "    .dataframe thead th {\n",
       "        text-align: right;\n",
       "    }\n",
       "</style>\n",
       "<table border=\"1\" class=\"dataframe\">\n",
       "  <thead>\n",
       "    <tr style=\"text-align: right;\">\n",
       "      <th></th>\n",
       "      <th>YEAR</th>\n",
       "      <th>MONTH</th>\n",
       "      <th>DAY</th>\n",
       "      <th>DAY_OF_WEEK</th>\n",
       "      <th>AIRLINE</th>\n",
       "      <th>FLIGHT_NUMBER</th>\n",
       "      <th>TAIL_NUMBER</th>\n",
       "      <th>ORIGIN_AIRPORT</th>\n",
       "      <th>DESTINATION_AIRPORT</th>\n",
       "      <th>SCHEDULED_DEPARTURE</th>\n",
       "      <th>...</th>\n",
       "      <th>ARRIVAL_TIME</th>\n",
       "      <th>ARRIVAL_DELAY</th>\n",
       "      <th>DIVERTED</th>\n",
       "      <th>CANCELLED</th>\n",
       "      <th>CANCELLATION_REASON</th>\n",
       "      <th>AIR_SYSTEM_DELAY</th>\n",
       "      <th>SECURITY_DELAY</th>\n",
       "      <th>AIRLINE_DELAY</th>\n",
       "      <th>LATE_AIRCRAFT_DELAY</th>\n",
       "      <th>WEATHER_DELAY</th>\n",
       "    </tr>\n",
       "  </thead>\n",
       "  <tbody>\n",
       "    <tr>\n",
       "      <th>0</th>\n",
       "      <td>2015</td>\n",
       "      <td>1</td>\n",
       "      <td>1</td>\n",
       "      <td>4</td>\n",
       "      <td>AS</td>\n",
       "      <td>98</td>\n",
       "      <td>N407AS</td>\n",
       "      <td>ANC</td>\n",
       "      <td>SEA</td>\n",
       "      <td>5</td>\n",
       "      <td>...</td>\n",
       "      <td>408.0</td>\n",
       "      <td>-22.0</td>\n",
       "      <td>0</td>\n",
       "      <td>0</td>\n",
       "      <td>NaN</td>\n",
       "      <td>NaN</td>\n",
       "      <td>NaN</td>\n",
       "      <td>NaN</td>\n",
       "      <td>NaN</td>\n",
       "      <td>NaN</td>\n",
       "    </tr>\n",
       "  </tbody>\n",
       "</table>\n",
       "<p>1 rows × 31 columns</p>\n",
       "</div>"
      ],
      "text/plain": [
       "   YEAR  MONTH  DAY  DAY_OF_WEEK AIRLINE  FLIGHT_NUMBER TAIL_NUMBER  \\\n",
       "0  2015      1    1            4      AS             98      N407AS   \n",
       "\n",
       "  ORIGIN_AIRPORT DESTINATION_AIRPORT  SCHEDULED_DEPARTURE      ...        \\\n",
       "0            ANC                 SEA                    5      ...         \n",
       "\n",
       "   ARRIVAL_TIME  ARRIVAL_DELAY  DIVERTED  CANCELLED  CANCELLATION_REASON  \\\n",
       "0         408.0          -22.0         0          0                  NaN   \n",
       "\n",
       "   AIR_SYSTEM_DELAY  SECURITY_DELAY  AIRLINE_DELAY  LATE_AIRCRAFT_DELAY  \\\n",
       "0               NaN             NaN            NaN                  NaN   \n",
       "\n",
       "   WEATHER_DELAY  \n",
       "0            NaN  \n",
       "\n",
       "[1 rows x 31 columns]"
      ]
     },
     "execution_count": 7,
     "metadata": {},
     "output_type": "execute_result"
    }
   ],
   "source": [
    "flights.head(1)"
   ]
  },
  {
   "cell_type": "code",
   "execution_count": 8,
   "metadata": {},
   "outputs": [
    {
     "data": {
      "text/plain": [
       "(6492, 2)"
      ]
     },
     "execution_count": 8,
     "metadata": {},
     "output_type": "execute_result"
    }
   ],
   "source": [
    "code_1 = pd.read_csv('flight-delays/L_AIRPORT_ID.csv')\n",
    "code_1.shape"
   ]
  },
  {
   "cell_type": "code",
   "execution_count": 9,
   "metadata": {},
   "outputs": [
    {
     "data": {
      "text/html": [
       "<div>\n",
       "<style scoped>\n",
       "    .dataframe tbody tr th:only-of-type {\n",
       "        vertical-align: middle;\n",
       "    }\n",
       "\n",
       "    .dataframe tbody tr th {\n",
       "        vertical-align: top;\n",
       "    }\n",
       "\n",
       "    .dataframe thead th {\n",
       "        text-align: right;\n",
       "    }\n",
       "</style>\n",
       "<table border=\"1\" class=\"dataframe\">\n",
       "  <thead>\n",
       "    <tr style=\"text-align: right;\">\n",
       "      <th></th>\n",
       "      <th>Code</th>\n",
       "      <th>Description</th>\n",
       "    </tr>\n",
       "  </thead>\n",
       "  <tbody>\n",
       "    <tr>\n",
       "      <th>0</th>\n",
       "      <td>10001</td>\n",
       "      <td>Afognak Lake, AK: Afognak Lake Airport</td>\n",
       "    </tr>\n",
       "  </tbody>\n",
       "</table>\n",
       "</div>"
      ],
      "text/plain": [
       "    Code                             Description\n",
       "0  10001  Afognak Lake, AK: Afognak Lake Airport"
      ]
     },
     "execution_count": 9,
     "metadata": {},
     "output_type": "execute_result"
    }
   ],
   "source": [
    "code_1.head(1)"
   ]
  },
  {
   "cell_type": "code",
   "execution_count": 10,
   "metadata": {},
   "outputs": [
    {
     "data": {
      "text/plain": [
       "(6510, 2)"
      ]
     },
     "execution_count": 10,
     "metadata": {},
     "output_type": "execute_result"
    }
   ],
   "source": [
    "code_2 = pd.read_csv('flight-delays/L_AIRPORT.csv')\n",
    "code_2.shape"
   ]
  },
  {
   "cell_type": "code",
   "execution_count": 11,
   "metadata": {},
   "outputs": [
    {
     "data": {
      "text/html": [
       "<div>\n",
       "<style scoped>\n",
       "    .dataframe tbody tr th:only-of-type {\n",
       "        vertical-align: middle;\n",
       "    }\n",
       "\n",
       "    .dataframe tbody tr th {\n",
       "        vertical-align: top;\n",
       "    }\n",
       "\n",
       "    .dataframe thead th {\n",
       "        text-align: right;\n",
       "    }\n",
       "</style>\n",
       "<table border=\"1\" class=\"dataframe\">\n",
       "  <thead>\n",
       "    <tr style=\"text-align: right;\">\n",
       "      <th></th>\n",
       "      <th>Code</th>\n",
       "      <th>Description</th>\n",
       "    </tr>\n",
       "  </thead>\n",
       "  <tbody>\n",
       "    <tr>\n",
       "      <th>0</th>\n",
       "      <td>01A</td>\n",
       "      <td>Afognak Lake, AK: Afognak Lake Airport</td>\n",
       "    </tr>\n",
       "  </tbody>\n",
       "</table>\n",
       "</div>"
      ],
      "text/plain": [
       "  Code                             Description\n",
       "0  01A  Afognak Lake, AK: Afognak Lake Airport"
      ]
     },
     "execution_count": 11,
     "metadata": {},
     "output_type": "execute_result"
    }
   ],
   "source": [
    "code_2.head(1)"
   ]
  },
  {
   "cell_type": "markdown",
   "metadata": {},
   "source": [
    "## process Airport code"
   ]
  },
  {
   "cell_type": "markdown",
   "metadata": {},
   "source": [
    "###### select number codes to convert them to letters codes"
   ]
  },
  {
   "cell_type": "code",
   "execution_count": 12,
   "metadata": {},
   "outputs": [
    {
     "name": "stdout",
     "output_type": "stream",
     "text": [
      "origin_num_code : 486165   % 8.0\n",
      "distinaton_num_code : 486165   % 8.0\n"
     ]
    }
   ],
   "source": [
    "origin_num_code = flights['ORIGIN_AIRPORT'].apply(lambda x: 1 if len(str(x))!=3 else 0).sum()\n",
    "\n",
    "distinaton_num_code = flights['DESTINATION_AIRPORT'].apply(lambda x: 1 if len(str(x))!=3 else 0).sum()\n",
    "\n",
    "print('origin_num_code :',origin_num_code,'  %',round(origin_num_code/flights.shape[0]*100) )\n",
    "print('distinaton_num_code :',distinaton_num_code,'  %',round(distinaton_num_code/flights.shape[0]*100))"
   ]
  },
  {
   "cell_type": "code",
   "execution_count": 13,
   "metadata": {},
   "outputs": [],
   "source": [
    "# flights with number codes : FNC\n",
    "\n",
    "FNCO = flights[flights['ORIGIN_AIRPORT']\\\n",
    "              .apply(lambda x: True if len(str(x))!=3 else False)].copy()\n",
    "\n",
    "\n",
    "FNCD = flights[flights['DESTINATION_AIRPORT']\\\n",
    "              .apply(lambda x: True if len(str(x))!=3 else False)].copy()\n"
   ]
  },
  {
   "cell_type": "code",
   "execution_count": 14,
   "metadata": {},
   "outputs": [
    {
     "name": "stdout",
     "output_type": "stream",
     "text": [
      "int64\n",
      "int64\n"
     ]
    }
   ],
   "source": [
    "FNCO['ORIGIN_AIRPORT'] = FNCO['ORIGIN_AIRPORT'].apply(lambda x : int(x))\n",
    "FNCD['DESTINATION_AIRPORT'] = FNCD['DESTINATION_AIRPORT'].apply(lambda x : int(x))\n",
    "print(FNCO['ORIGIN_AIRPORT'].dtypes)\n",
    "print(FNCD['DESTINATION_AIRPORT'].dtypes)"
   ]
  },
  {
   "cell_type": "code",
   "execution_count": 15,
   "metadata": {},
   "outputs": [
    {
     "name": "stdout",
     "output_type": "stream",
     "text": [
      "unique origin airport: 306\n",
      "unique destination airport: 307\n"
     ]
    }
   ],
   "source": [
    "print ('unique origin airport:',len(FNCO['ORIGIN_AIRPORT'].unique()))\n",
    "print ('unique destination airport:',len(FNCD['DESTINATION_AIRPORT'].unique()))"
   ]
  },
  {
   "cell_type": "code",
   "execution_count": 16,
   "metadata": {},
   "outputs": [],
   "source": [
    "airports_codes1 = FNCO['ORIGIN_AIRPORT'].unique().tolist()"
   ]
  },
  {
   "cell_type": "code",
   "execution_count": 17,
   "metadata": {},
   "outputs": [],
   "source": [
    "airports_codes2 = FNCD['DESTINATION_AIRPORT'].unique().tolist()"
   ]
  },
  {
   "cell_type": "code",
   "execution_count": 18,
   "metadata": {},
   "outputs": [
    {
     "data": {
      "text/plain": [
       "307"
      ]
     },
     "execution_count": 18,
     "metadata": {},
     "output_type": "execute_result"
    }
   ],
   "source": [
    "airports_codes = airports_codes1 + airports_codes2\n",
    "len(np.unique(airports_codes2))"
   ]
  },
  {
   "cell_type": "code",
   "execution_count": 19,
   "metadata": {},
   "outputs": [
    {
     "data": {
      "text/plain": [
       "Index(['Code', 'Description'], dtype='object')"
      ]
     },
     "execution_count": 19,
     "metadata": {},
     "output_type": "execute_result"
    }
   ],
   "source": [
    "code_1.columns"
   ]
  },
  {
   "cell_type": "code",
   "execution_count": 20,
   "metadata": {},
   "outputs": [],
   "source": [
    "code_1['Code'] = code_1['Code'].apply(lambda x : int(x))"
   ]
  },
  {
   "cell_type": "code",
   "execution_count": 21,
   "metadata": {},
   "outputs": [],
   "source": [
    "code_num = code_1[code_1['Code']\\\n",
    "              .apply(lambda x: True if x in airports_codes else False)].copy()"
   ]
  },
  {
   "cell_type": "code",
   "execution_count": 22,
   "metadata": {},
   "outputs": [
    {
     "data": {
      "text/plain": [
       "307"
      ]
     },
     "execution_count": 22,
     "metadata": {},
     "output_type": "execute_result"
    }
   ],
   "source": [
    "len(code_num['Code'].unique())"
   ]
  },
  {
   "cell_type": "code",
   "execution_count": 23,
   "metadata": {},
   "outputs": [
    {
     "data": {
      "text/html": [
       "<div>\n",
       "<style scoped>\n",
       "    .dataframe tbody tr th:only-of-type {\n",
       "        vertical-align: middle;\n",
       "    }\n",
       "\n",
       "    .dataframe tbody tr th {\n",
       "        vertical-align: top;\n",
       "    }\n",
       "\n",
       "    .dataframe thead th {\n",
       "        text-align: right;\n",
       "    }\n",
       "</style>\n",
       "<table border=\"1\" class=\"dataframe\">\n",
       "  <thead>\n",
       "    <tr style=\"text-align: right;\">\n",
       "      <th></th>\n",
       "      <th>Code</th>\n",
       "      <th>Description</th>\n",
       "    </tr>\n",
       "  </thead>\n",
       "  <tbody>\n",
       "    <tr>\n",
       "      <th>119</th>\n",
       "      <td>10135</td>\n",
       "      <td>Allentown/Bethlehem/Easton, PA: Lehigh Valley ...</td>\n",
       "    </tr>\n",
       "    <tr>\n",
       "      <th>120</th>\n",
       "      <td>10136</td>\n",
       "      <td>Abilene, TX: Abilene Regional</td>\n",
       "    </tr>\n",
       "    <tr>\n",
       "      <th>124</th>\n",
       "      <td>10140</td>\n",
       "      <td>Albuquerque, NM: Albuquerque International Sun...</td>\n",
       "    </tr>\n",
       "    <tr>\n",
       "      <th>125</th>\n",
       "      <td>10141</td>\n",
       "      <td>Aberdeen, SD: Aberdeen Regional</td>\n",
       "    </tr>\n",
       "    <tr>\n",
       "      <th>130</th>\n",
       "      <td>10146</td>\n",
       "      <td>Albany, GA: Southwest Georgia Regional</td>\n",
       "    </tr>\n",
       "    <tr>\n",
       "      <th>138</th>\n",
       "      <td>10154</td>\n",
       "      <td>Nantucket, MA: Nantucket Memorial</td>\n",
       "    </tr>\n",
       "    <tr>\n",
       "      <th>139</th>\n",
       "      <td>10155</td>\n",
       "      <td>Waco, TX: Waco Regional</td>\n",
       "    </tr>\n",
       "    <tr>\n",
       "      <th>141</th>\n",
       "      <td>10157</td>\n",
       "      <td>Arcata/Eureka, CA: California Redwood Coast Hu...</td>\n",
       "    </tr>\n",
       "    <tr>\n",
       "      <th>142</th>\n",
       "      <td>10158</td>\n",
       "      <td>Atlantic City, NJ: Atlantic City International</td>\n",
       "    </tr>\n",
       "    <tr>\n",
       "      <th>149</th>\n",
       "      <td>10165</td>\n",
       "      <td>Adak Island, AK: Adak</td>\n",
       "    </tr>\n",
       "    <tr>\n",
       "      <th>154</th>\n",
       "      <td>10170</td>\n",
       "      <td>Kodiak, AK: Kodiak Airport</td>\n",
       "    </tr>\n",
       "    <tr>\n",
       "      <th>168</th>\n",
       "      <td>10185</td>\n",
       "      <td>Alexandria, LA: Alexandria International</td>\n",
       "    </tr>\n",
       "    <tr>\n",
       "      <th>189</th>\n",
       "      <td>10208</td>\n",
       "      <td>Augusta, GA: Augusta Regional at Bush Field</td>\n",
       "    </tr>\n",
       "    <tr>\n",
       "      <th>237</th>\n",
       "      <td>10257</td>\n",
       "      <td>Albany, NY: Albany International</td>\n",
       "    </tr>\n",
       "    <tr>\n",
       "      <th>248</th>\n",
       "      <td>10268</td>\n",
       "      <td>Waterloo, IA: Waterloo Regional</td>\n",
       "    </tr>\n",
       "    <tr>\n",
       "      <th>259</th>\n",
       "      <td>10279</td>\n",
       "      <td>Amarillo, TX: Rick Husband Amarillo International</td>\n",
       "    </tr>\n",
       "    <tr>\n",
       "      <th>278</th>\n",
       "      <td>10299</td>\n",
       "      <td>Anchorage, AK: Ted Stevens Anchorage Internati...</td>\n",
       "    </tr>\n",
       "    <tr>\n",
       "      <th>310</th>\n",
       "      <td>10333</td>\n",
       "      <td>Alpena, MI: Alpena County Regional</td>\n",
       "    </tr>\n",
       "    <tr>\n",
       "      <th>348</th>\n",
       "      <td>10372</td>\n",
       "      <td>Aspen, CO: Aspen Pitkin County Sardy Field</td>\n",
       "    </tr>\n",
       "    <tr>\n",
       "      <th>373</th>\n",
       "      <td>10397</td>\n",
       "      <td>Atlanta, GA: Hartsfield-Jackson Atlanta Intern...</td>\n",
       "    </tr>\n",
       "    <tr>\n",
       "      <th>384</th>\n",
       "      <td>10408</td>\n",
       "      <td>Appleton, WI: Appleton International</td>\n",
       "    </tr>\n",
       "    <tr>\n",
       "      <th>399</th>\n",
       "      <td>10423</td>\n",
       "      <td>Austin, TX: Austin - Bergstrom International</td>\n",
       "    </tr>\n",
       "    <tr>\n",
       "      <th>406</th>\n",
       "      <td>10431</td>\n",
       "      <td>Asheville, NC: Asheville Regional</td>\n",
       "    </tr>\n",
       "    <tr>\n",
       "      <th>409</th>\n",
       "      <td>10434</td>\n",
       "      <td>Scranton/Wilkes-Barre, PA: Wilkes Barre Scrant...</td>\n",
       "    </tr>\n",
       "    <tr>\n",
       "      <th>444</th>\n",
       "      <td>10469</td>\n",
       "      <td>Kalamazoo, MI: Kalamazoo/Battle Creek Internat...</td>\n",
       "    </tr>\n",
       "    <tr>\n",
       "      <th>503</th>\n",
       "      <td>10529</td>\n",
       "      <td>Hartford, CT: Bradley International</td>\n",
       "    </tr>\n",
       "    <tr>\n",
       "      <th>524</th>\n",
       "      <td>10551</td>\n",
       "      <td>Bethel, AK: Bethel Airport</td>\n",
       "    </tr>\n",
       "    <tr>\n",
       "      <th>534</th>\n",
       "      <td>10561</td>\n",
       "      <td>Bakersfield, CA: Meadows Field</td>\n",
       "    </tr>\n",
       "    <tr>\n",
       "      <th>550</th>\n",
       "      <td>10577</td>\n",
       "      <td>Binghamton, NY: Greater Binghamton/Edwin A. Li...</td>\n",
       "    </tr>\n",
       "    <tr>\n",
       "      <th>554</th>\n",
       "      <td>10581</td>\n",
       "      <td>Bangor, ME: Bangor International</td>\n",
       "    </tr>\n",
       "    <tr>\n",
       "      <th>...</th>\n",
       "      <td>...</td>\n",
       "      <td>...</td>\n",
       "    </tr>\n",
       "    <tr>\n",
       "      <th>4685</th>\n",
       "      <td>14908</td>\n",
       "      <td>Santa Ana, CA: John Wayne Airport-Orange County</td>\n",
       "    </tr>\n",
       "    <tr>\n",
       "      <th>4727</th>\n",
       "      <td>14952</td>\n",
       "      <td>Springfield, IL: Abraham Lincoln Capital</td>\n",
       "    </tr>\n",
       "    <tr>\n",
       "      <th>4734</th>\n",
       "      <td>14960</td>\n",
       "      <td>Wichita Falls, TX: Sheppard AFB/Wichita Falls ...</td>\n",
       "    </tr>\n",
       "    <tr>\n",
       "      <th>4760</th>\n",
       "      <td>14986</td>\n",
       "      <td>Sarasota/Bradenton, FL: Sarasota/Bradenton Int...</td>\n",
       "    </tr>\n",
       "    <tr>\n",
       "      <th>4790</th>\n",
       "      <td>15016</td>\n",
       "      <td>St. Louis, MO: St Louis Lambert International</td>\n",
       "    </tr>\n",
       "    <tr>\n",
       "      <th>4798</th>\n",
       "      <td>15024</td>\n",
       "      <td>Charlotte Amalie, VI: Cyril E King</td>\n",
       "    </tr>\n",
       "    <tr>\n",
       "      <th>4800</th>\n",
       "      <td>15027</td>\n",
       "      <td>Christiansted, VI: Henry E. Rohlsen</td>\n",
       "    </tr>\n",
       "    <tr>\n",
       "      <th>4813</th>\n",
       "      <td>15041</td>\n",
       "      <td>Sun Valley/Hailey/Ketchum, ID: Friedman Memorial</td>\n",
       "    </tr>\n",
       "    <tr>\n",
       "      <th>4820</th>\n",
       "      <td>15048</td>\n",
       "      <td>Sioux City, IA: Sioux Gateway/Col. Bud Day Field</td>\n",
       "    </tr>\n",
       "    <tr>\n",
       "      <th>4842</th>\n",
       "      <td>15070</td>\n",
       "      <td>Newburgh/Poughkeepsie, NY: Stewart International</td>\n",
       "    </tr>\n",
       "    <tr>\n",
       "      <th>4867</th>\n",
       "      <td>15096</td>\n",
       "      <td>Syracuse, NY: Syracuse Hancock International</td>\n",
       "    </tr>\n",
       "    <tr>\n",
       "      <th>5016</th>\n",
       "      <td>15249</td>\n",
       "      <td>Tallahassee, FL: Tallahassee International</td>\n",
       "    </tr>\n",
       "    <tr>\n",
       "      <th>5060</th>\n",
       "      <td>15295</td>\n",
       "      <td>Toledo, OH: Toledo Express</td>\n",
       "    </tr>\n",
       "    <tr>\n",
       "      <th>5069</th>\n",
       "      <td>15304</td>\n",
       "      <td>Tampa, FL: Tampa International</td>\n",
       "    </tr>\n",
       "    <tr>\n",
       "      <th>5087</th>\n",
       "      <td>15323</td>\n",
       "      <td>Bristol/Johnson City/Kingsport, TN: Tri Cities</td>\n",
       "    </tr>\n",
       "    <tr>\n",
       "      <th>5118</th>\n",
       "      <td>15356</td>\n",
       "      <td>Trenton, NJ: Trenton Mercer</td>\n",
       "    </tr>\n",
       "    <tr>\n",
       "      <th>5131</th>\n",
       "      <td>15370</td>\n",
       "      <td>Tulsa, OK: Tulsa International</td>\n",
       "    </tr>\n",
       "    <tr>\n",
       "      <th>5137</th>\n",
       "      <td>15376</td>\n",
       "      <td>Tucson, AZ: Tucson International</td>\n",
       "    </tr>\n",
       "    <tr>\n",
       "      <th>5141</th>\n",
       "      <td>15380</td>\n",
       "      <td>Traverse City, MI: Cherry Capital</td>\n",
       "    </tr>\n",
       "    <tr>\n",
       "      <th>5150</th>\n",
       "      <td>15389</td>\n",
       "      <td>Twin Falls, ID: Joslin Field - Magic Valley Re...</td>\n",
       "    </tr>\n",
       "    <tr>\n",
       "      <th>5161</th>\n",
       "      <td>15401</td>\n",
       "      <td>Texarkana, AR: Texarkana Regional-Webb Field</td>\n",
       "    </tr>\n",
       "    <tr>\n",
       "      <th>5170</th>\n",
       "      <td>15411</td>\n",
       "      <td>Tyler, TX: Tyler Pounds Regional</td>\n",
       "    </tr>\n",
       "    <tr>\n",
       "      <th>5171</th>\n",
       "      <td>15412</td>\n",
       "      <td>Knoxville, TN: McGhee Tyson</td>\n",
       "    </tr>\n",
       "    <tr>\n",
       "      <th>5254</th>\n",
       "      <td>15497</td>\n",
       "      <td>St. Augustine, FL: Northeast Florida Regional</td>\n",
       "    </tr>\n",
       "    <tr>\n",
       "      <th>5359</th>\n",
       "      <td>15607</td>\n",
       "      <td>Valdosta, GA: Valdosta Regional</td>\n",
       "    </tr>\n",
       "    <tr>\n",
       "      <th>5375</th>\n",
       "      <td>15624</td>\n",
       "      <td>Valparaiso, FL: Eglin AFB Destin Fort Walton B...</td>\n",
       "    </tr>\n",
       "    <tr>\n",
       "      <th>5565</th>\n",
       "      <td>15841</td>\n",
       "      <td>Wrangell, AK: Wrangell Airport</td>\n",
       "    </tr>\n",
       "    <tr>\n",
       "      <th>5630</th>\n",
       "      <td>15919</td>\n",
       "      <td>Fayetteville, AR: Northwest Arkansas Regional</td>\n",
       "    </tr>\n",
       "    <tr>\n",
       "      <th>5685</th>\n",
       "      <td>15991</td>\n",
       "      <td>Yakutat, AK: Yakutat Airport</td>\n",
       "    </tr>\n",
       "    <tr>\n",
       "      <th>5908</th>\n",
       "      <td>16218</td>\n",
       "      <td>Yuma, AZ: Yuma MCAS/Yuma International</td>\n",
       "    </tr>\n",
       "  </tbody>\n",
       "</table>\n",
       "<p>307 rows × 2 columns</p>\n",
       "</div>"
      ],
      "text/plain": [
       "       Code                                        Description\n",
       "119   10135  Allentown/Bethlehem/Easton, PA: Lehigh Valley ...\n",
       "120   10136                      Abilene, TX: Abilene Regional\n",
       "124   10140  Albuquerque, NM: Albuquerque International Sun...\n",
       "125   10141                    Aberdeen, SD: Aberdeen Regional\n",
       "130   10146             Albany, GA: Southwest Georgia Regional\n",
       "138   10154                  Nantucket, MA: Nantucket Memorial\n",
       "139   10155                            Waco, TX: Waco Regional\n",
       "141   10157  Arcata/Eureka, CA: California Redwood Coast Hu...\n",
       "142   10158     Atlantic City, NJ: Atlantic City International\n",
       "149   10165                              Adak Island, AK: Adak\n",
       "154   10170                         Kodiak, AK: Kodiak Airport\n",
       "168   10185           Alexandria, LA: Alexandria International\n",
       "189   10208        Augusta, GA: Augusta Regional at Bush Field\n",
       "237   10257                   Albany, NY: Albany International\n",
       "248   10268                    Waterloo, IA: Waterloo Regional\n",
       "259   10279  Amarillo, TX: Rick Husband Amarillo International\n",
       "278   10299  Anchorage, AK: Ted Stevens Anchorage Internati...\n",
       "310   10333                 Alpena, MI: Alpena County Regional\n",
       "348   10372         Aspen, CO: Aspen Pitkin County Sardy Field\n",
       "373   10397  Atlanta, GA: Hartsfield-Jackson Atlanta Intern...\n",
       "384   10408               Appleton, WI: Appleton International\n",
       "399   10423       Austin, TX: Austin - Bergstrom International\n",
       "406   10431                  Asheville, NC: Asheville Regional\n",
       "409   10434  Scranton/Wilkes-Barre, PA: Wilkes Barre Scrant...\n",
       "444   10469  Kalamazoo, MI: Kalamazoo/Battle Creek Internat...\n",
       "503   10529                Hartford, CT: Bradley International\n",
       "524   10551                         Bethel, AK: Bethel Airport\n",
       "534   10561                     Bakersfield, CA: Meadows Field\n",
       "550   10577  Binghamton, NY: Greater Binghamton/Edwin A. Li...\n",
       "554   10581                   Bangor, ME: Bangor International\n",
       "...     ...                                                ...\n",
       "4685  14908    Santa Ana, CA: John Wayne Airport-Orange County\n",
       "4727  14952           Springfield, IL: Abraham Lincoln Capital\n",
       "4734  14960  Wichita Falls, TX: Sheppard AFB/Wichita Falls ...\n",
       "4760  14986  Sarasota/Bradenton, FL: Sarasota/Bradenton Int...\n",
       "4790  15016      St. Louis, MO: St Louis Lambert International\n",
       "4798  15024                 Charlotte Amalie, VI: Cyril E King\n",
       "4800  15027                Christiansted, VI: Henry E. Rohlsen\n",
       "4813  15041   Sun Valley/Hailey/Ketchum, ID: Friedman Memorial\n",
       "4820  15048   Sioux City, IA: Sioux Gateway/Col. Bud Day Field\n",
       "4842  15070   Newburgh/Poughkeepsie, NY: Stewart International\n",
       "4867  15096       Syracuse, NY: Syracuse Hancock International\n",
       "5016  15249         Tallahassee, FL: Tallahassee International\n",
       "5060  15295                         Toledo, OH: Toledo Express\n",
       "5069  15304                     Tampa, FL: Tampa International\n",
       "5087  15323     Bristol/Johnson City/Kingsport, TN: Tri Cities\n",
       "5118  15356                        Trenton, NJ: Trenton Mercer\n",
       "5131  15370                     Tulsa, OK: Tulsa International\n",
       "5137  15376                   Tucson, AZ: Tucson International\n",
       "5141  15380                  Traverse City, MI: Cherry Capital\n",
       "5150  15389  Twin Falls, ID: Joslin Field - Magic Valley Re...\n",
       "5161  15401       Texarkana, AR: Texarkana Regional-Webb Field\n",
       "5170  15411                   Tyler, TX: Tyler Pounds Regional\n",
       "5171  15412                        Knoxville, TN: McGhee Tyson\n",
       "5254  15497      St. Augustine, FL: Northeast Florida Regional\n",
       "5359  15607                    Valdosta, GA: Valdosta Regional\n",
       "5375  15624  Valparaiso, FL: Eglin AFB Destin Fort Walton B...\n",
       "5565  15841                     Wrangell, AK: Wrangell Airport\n",
       "5630  15919      Fayetteville, AR: Northwest Arkansas Regional\n",
       "5685  15991                       Yakutat, AK: Yakutat Airport\n",
       "5908  16218             Yuma, AZ: Yuma MCAS/Yuma International\n",
       "\n",
       "[307 rows x 2 columns]"
      ]
     },
     "execution_count": 23,
     "metadata": {},
     "output_type": "execute_result"
    }
   ],
   "source": [
    "code_num"
   ]
  },
  {
   "cell_type": "code",
   "execution_count": 24,
   "metadata": {},
   "outputs": [
    {
     "name": "stdout",
     "output_type": "stream",
     "text": [
      "(310, 3)\n",
      "   Code_x                                        Description Code_y\n",
      "0   10135  Allentown/Bethlehem/Easton, PA: Lehigh Valley ...    ABE\n"
     ]
    }
   ],
   "source": [
    "Airport_codes = pd.merge(code_num,code_2, how='left', on=['Description'])\n",
    "print(Airport_codes.shape) \n",
    "print(Airport_codes.head(1))"
   ]
  },
  {
   "cell_type": "code",
   "execution_count": 25,
   "metadata": {},
   "outputs": [
    {
     "data": {
      "text/html": [
       "<div>\n",
       "<style scoped>\n",
       "    .dataframe tbody tr th:only-of-type {\n",
       "        vertical-align: middle;\n",
       "    }\n",
       "\n",
       "    .dataframe tbody tr th {\n",
       "        vertical-align: top;\n",
       "    }\n",
       "\n",
       "    .dataframe thead th {\n",
       "        text-align: right;\n",
       "    }\n",
       "</style>\n",
       "<table border=\"1\" class=\"dataframe\">\n",
       "  <thead>\n",
       "    <tr style=\"text-align: right;\">\n",
       "      <th></th>\n",
       "      <th>Code_x</th>\n",
       "      <th>Description</th>\n",
       "      <th>Code_y</th>\n",
       "    </tr>\n",
       "  </thead>\n",
       "  <tbody>\n",
       "    <tr>\n",
       "      <th>21</th>\n",
       "      <td>10423</td>\n",
       "      <td>Austin, TX: Austin - Bergstrom International</td>\n",
       "      <td>AUS</td>\n",
       "    </tr>\n",
       "    <tr>\n",
       "      <th>22</th>\n",
       "      <td>10423</td>\n",
       "      <td>Austin, TX: Austin - Bergstrom International</td>\n",
       "      <td>BSM</td>\n",
       "    </tr>\n",
       "    <tr>\n",
       "      <th>135</th>\n",
       "      <td>12173</td>\n",
       "      <td>Honolulu, HI: Daniel K Inouye International</td>\n",
       "      <td>HIK</td>\n",
       "    </tr>\n",
       "    <tr>\n",
       "      <th>136</th>\n",
       "      <td>12173</td>\n",
       "      <td>Honolulu, HI: Daniel K Inouye International</td>\n",
       "      <td>HNL</td>\n",
       "    </tr>\n",
       "    <tr>\n",
       "      <th>308</th>\n",
       "      <td>16218</td>\n",
       "      <td>Yuma, AZ: Yuma MCAS/Yuma International</td>\n",
       "      <td>NYL</td>\n",
       "    </tr>\n",
       "    <tr>\n",
       "      <th>309</th>\n",
       "      <td>16218</td>\n",
       "      <td>Yuma, AZ: Yuma MCAS/Yuma International</td>\n",
       "      <td>YUM</td>\n",
       "    </tr>\n",
       "  </tbody>\n",
       "</table>\n",
       "</div>"
      ],
      "text/plain": [
       "     Code_x                                   Description Code_y\n",
       "21    10423  Austin, TX: Austin - Bergstrom International    AUS\n",
       "22    10423  Austin, TX: Austin - Bergstrom International    BSM\n",
       "135   12173   Honolulu, HI: Daniel K Inouye International    HIK\n",
       "136   12173   Honolulu, HI: Daniel K Inouye International    HNL\n",
       "308   16218        Yuma, AZ: Yuma MCAS/Yuma International    NYL\n",
       "309   16218        Yuma, AZ: Yuma MCAS/Yuma International    YUM"
      ]
     },
     "execution_count": 25,
     "metadata": {},
     "output_type": "execute_result"
    }
   ],
   "source": [
    "duplicate_codes = Airport_codes[Airport_codes['Description'].duplicated(keep=False)]\n",
    "duplicate_codes"
   ]
  },
  {
   "cell_type": "code",
   "execution_count": 26,
   "metadata": {},
   "outputs": [
    {
     "name": "stdout",
     "output_type": "stream",
     "text": [
      "['AUS', 'BSM', 'HIK', 'HNL', 'NYL', 'YUM']\n"
     ]
    },
    {
     "data": {
      "text/html": [
       "<div>\n",
       "<style scoped>\n",
       "    .dataframe tbody tr th:only-of-type {\n",
       "        vertical-align: middle;\n",
       "    }\n",
       "\n",
       "    .dataframe tbody tr th {\n",
       "        vertical-align: top;\n",
       "    }\n",
       "\n",
       "    .dataframe thead th {\n",
       "        text-align: right;\n",
       "    }\n",
       "</style>\n",
       "<table border=\"1\" class=\"dataframe\">\n",
       "  <thead>\n",
       "    <tr style=\"text-align: right;\">\n",
       "      <th></th>\n",
       "      <th>IATA_CODE</th>\n",
       "      <th>AIRPORT</th>\n",
       "      <th>CITY</th>\n",
       "      <th>STATE</th>\n",
       "      <th>COUNTRY</th>\n",
       "      <th>LATITUDE</th>\n",
       "      <th>LONGITUDE</th>\n",
       "    </tr>\n",
       "  </thead>\n",
       "  <tbody>\n",
       "    <tr>\n",
       "      <th>22</th>\n",
       "      <td>AUS</td>\n",
       "      <td>Austin-Bergstrom International Airport</td>\n",
       "      <td>Austin</td>\n",
       "      <td>TX</td>\n",
       "      <td>USA</td>\n",
       "      <td>30.19453</td>\n",
       "      <td>-97.66987</td>\n",
       "    </tr>\n",
       "    <tr>\n",
       "      <th>141</th>\n",
       "      <td>HNL</td>\n",
       "      <td>Honolulu International Airport</td>\n",
       "      <td>Honolulu</td>\n",
       "      <td>HI</td>\n",
       "      <td>USA</td>\n",
       "      <td>21.31869</td>\n",
       "      <td>-157.92241</td>\n",
       "    </tr>\n",
       "    <tr>\n",
       "      <th>321</th>\n",
       "      <td>YUM</td>\n",
       "      <td>Yuma International Airport</td>\n",
       "      <td>Yuma</td>\n",
       "      <td>AZ</td>\n",
       "      <td>USA</td>\n",
       "      <td>32.65658</td>\n",
       "      <td>-114.60597</td>\n",
       "    </tr>\n",
       "  </tbody>\n",
       "</table>\n",
       "</div>"
      ],
      "text/plain": [
       "    IATA_CODE                                 AIRPORT      CITY STATE COUNTRY  \\\n",
       "22        AUS  Austin-Bergstrom International Airport    Austin    TX     USA   \n",
       "141       HNL          Honolulu International Airport  Honolulu    HI     USA   \n",
       "321       YUM              Yuma International Airport      Yuma    AZ     USA   \n",
       "\n",
       "     LATITUDE  LONGITUDE  \n",
       "22   30.19453  -97.66987  \n",
       "141  21.31869 -157.92241  \n",
       "321  32.65658 -114.60597  "
      ]
     },
     "execution_count": 26,
     "metadata": {},
     "output_type": "execute_result"
    }
   ],
   "source": [
    "# check duplicate codes with airports dataset provided by kaggle\n",
    "\n",
    "dup_codes_list = duplicate_codes['Code_y'].tolist()\n",
    "print(dup_codes_list)\n",
    "airports[airports.IATA_CODE.apply(lambda x: True if x in dup_codes_list else False)]"
   ]
  },
  {
   "cell_type": "code",
   "execution_count": 27,
   "metadata": {},
   "outputs": [
    {
     "name": "stdout",
     "output_type": "stream",
     "text": [
      "310\n"
     ]
    },
    {
     "data": {
      "text/html": [
       "<div>\n",
       "<style scoped>\n",
       "    .dataframe tbody tr th:only-of-type {\n",
       "        vertical-align: middle;\n",
       "    }\n",
       "\n",
       "    .dataframe tbody tr th {\n",
       "        vertical-align: top;\n",
       "    }\n",
       "\n",
       "    .dataframe thead th {\n",
       "        text-align: right;\n",
       "    }\n",
       "</style>\n",
       "<table border=\"1\" class=\"dataframe\">\n",
       "  <thead>\n",
       "    <tr style=\"text-align: right;\">\n",
       "      <th></th>\n",
       "      <th>Code_x</th>\n",
       "      <th>Description</th>\n",
       "      <th>Code_y</th>\n",
       "    </tr>\n",
       "  </thead>\n",
       "  <tbody>\n",
       "    <tr>\n",
       "      <th>0</th>\n",
       "      <td>10135</td>\n",
       "      <td>Allentown/Bethlehem/Easton, PA: Lehigh Valley ...</td>\n",
       "      <td>ABE</td>\n",
       "    </tr>\n",
       "    <tr>\n",
       "      <th>1</th>\n",
       "      <td>10136</td>\n",
       "      <td>Abilene, TX: Abilene Regional</td>\n",
       "      <td>ABI</td>\n",
       "    </tr>\n",
       "    <tr>\n",
       "      <th>2</th>\n",
       "      <td>10140</td>\n",
       "      <td>Albuquerque, NM: Albuquerque International Sun...</td>\n",
       "      <td>ABQ</td>\n",
       "    </tr>\n",
       "    <tr>\n",
       "      <th>3</th>\n",
       "      <td>10141</td>\n",
       "      <td>Aberdeen, SD: Aberdeen Regional</td>\n",
       "      <td>ABR</td>\n",
       "    </tr>\n",
       "    <tr>\n",
       "      <th>4</th>\n",
       "      <td>10146</td>\n",
       "      <td>Albany, GA: Southwest Georgia Regional</td>\n",
       "      <td>ABY</td>\n",
       "    </tr>\n",
       "  </tbody>\n",
       "</table>\n",
       "</div>"
      ],
      "text/plain": [
       "   Code_x                                        Description Code_y\n",
       "0   10135  Allentown/Bethlehem/Easton, PA: Lehigh Valley ...    ABE\n",
       "1   10136                      Abilene, TX: Abilene Regional    ABI\n",
       "2   10140  Albuquerque, NM: Albuquerque International Sun...    ABQ\n",
       "3   10141                    Aberdeen, SD: Aberdeen Regional    ABR\n",
       "4   10146             Albany, GA: Southwest Georgia Regional    ABY"
      ]
     },
     "execution_count": 27,
     "metadata": {},
     "output_type": "execute_result"
    }
   ],
   "source": [
    "print(len(Airport_codes))\n",
    "Airport_codes.head(5)"
   ]
  },
  {
   "cell_type": "code",
   "execution_count": 28,
   "metadata": {},
   "outputs": [],
   "source": [
    "# drop codes not find in airports dataset\n",
    "x = ['BSM','HIK','NYL']\n",
    "Airport_codes = Airport_codes.drop(Airport_codes[Airport_codes.Code_y.isin(x)].index)"
   ]
  },
  {
   "cell_type": "code",
   "execution_count": 29,
   "metadata": {},
   "outputs": [
    {
     "name": "stdout",
     "output_type": "stream",
     "text": [
      "307\n"
     ]
    },
    {
     "data": {
      "text/html": [
       "<div>\n",
       "<style scoped>\n",
       "    .dataframe tbody tr th:only-of-type {\n",
       "        vertical-align: middle;\n",
       "    }\n",
       "\n",
       "    .dataframe tbody tr th {\n",
       "        vertical-align: top;\n",
       "    }\n",
       "\n",
       "    .dataframe thead th {\n",
       "        text-align: right;\n",
       "    }\n",
       "</style>\n",
       "<table border=\"1\" class=\"dataframe\">\n",
       "  <thead>\n",
       "    <tr style=\"text-align: right;\">\n",
       "      <th></th>\n",
       "      <th>Code_x</th>\n",
       "      <th>Description</th>\n",
       "      <th>Code_y</th>\n",
       "    </tr>\n",
       "  </thead>\n",
       "  <tbody>\n",
       "    <tr>\n",
       "      <th>0</th>\n",
       "      <td>10135</td>\n",
       "      <td>Allentown/Bethlehem/Easton, PA: Lehigh Valley ...</td>\n",
       "      <td>ABE</td>\n",
       "    </tr>\n",
       "  </tbody>\n",
       "</table>\n",
       "</div>"
      ],
      "text/plain": [
       "   Code_x                                        Description Code_y\n",
       "0   10135  Allentown/Bethlehem/Easton, PA: Lehigh Valley ...    ABE"
      ]
     },
     "execution_count": 29,
     "metadata": {},
     "output_type": "execute_result"
    }
   ],
   "source": [
    "print(len(Airport_codes))\n",
    "Airport_codes.head(1)"
   ]
  },
  {
   "cell_type": "code",
   "execution_count": 30,
   "metadata": {},
   "outputs": [
    {
     "name": "stdout",
     "output_type": "stream",
     "text": [
      "486165\n",
      "         YEAR  MONTH  DAY  DAY_OF_WEEK AIRLINE  FLIGHT_NUMBER TAIL_NUMBER  \\\n",
      "4385712  2015     10    1            4      AA           1230      N3DBAA   \n",
      "4385713  2015     10    1            4      DL           1805      N696DL   \n",
      "4385714  2015     10    1            4      NK            612      N602NK   \n",
      "\n",
      "        ORIGIN_AIRPORT DESTINATION_AIRPORT  SCHEDULED_DEPARTURE  \\\n",
      "4385712          14747               11298                    5   \n",
      "4385713          14771               13487                    5   \n",
      "4385714          12889               13487                    5   \n",
      "\n",
      "             ...        ARRIVAL_TIME  ARRIVAL_DELAY  DIVERTED  CANCELLED  \\\n",
      "4385712      ...               543.0          -19.0         0          0   \n",
      "4385713      ...               528.0          -10.0         0          0   \n",
      "4385714      ...               448.0          -14.0         0          0   \n",
      "\n",
      "         CANCELLATION_REASON  AIR_SYSTEM_DELAY  SECURITY_DELAY  AIRLINE_DELAY  \\\n",
      "4385712                  NaN               NaN             NaN            NaN   \n",
      "4385713                  NaN               NaN             NaN            NaN   \n",
      "4385714                  NaN               NaN             NaN            NaN   \n",
      "\n",
      "         LATE_AIRCRAFT_DELAY  WEATHER_DELAY  \n",
      "4385712                  NaN            NaN  \n",
      "4385713                  NaN            NaN  \n",
      "4385714                  NaN            NaN  \n",
      "\n",
      "[3 rows x 31 columns]\n"
     ]
    }
   ],
   "source": [
    "issue_code=flights[flights.apply(lambda row: True if (len(str(row['ORIGIN_AIRPORT']))!=3)|\\\n",
    "                      (len(str(row['DESTINATION_AIRPORT']))!=3)\n",
    "                      else False,axis=1)].copy()\n",
    "\n",
    "print(len(issue_code))\n",
    "print(issue_code.head(3))"
   ]
  },
  {
   "cell_type": "code",
   "execution_count": 34,
   "metadata": {},
   "outputs": [
    {
     "name": "stdout",
     "output_type": "stream",
     "text": [
      "5332914\n",
      "   YEAR  MONTH  DAY  DAY_OF_WEEK AIRLINE  FLIGHT_NUMBER TAIL_NUMBER  \\\n",
      "0  2015      1    1            4      AS             98      N407AS   \n",
      "1  2015      1    1            4      AA           2336      N3KUAA   \n",
      "2  2015      1    1            4      US            840      N171US   \n",
      "\n",
      "  ORIGIN_AIRPORT DESTINATION_AIRPORT  SCHEDULED_DEPARTURE      ...        \\\n",
      "0            ANC                 SEA                    5      ...         \n",
      "1            LAX                 PBI                   10      ...         \n",
      "2            SFO                 CLT                   20      ...         \n",
      "\n",
      "   ARRIVAL_TIME  ARRIVAL_DELAY  DIVERTED  CANCELLED  CANCELLATION_REASON  \\\n",
      "0         408.0          -22.0         0          0                  NaN   \n",
      "1         741.0           -9.0         0          0                  NaN   \n",
      "2         811.0            5.0         0          0                  NaN   \n",
      "\n",
      "   AIR_SYSTEM_DELAY  SECURITY_DELAY  AIRLINE_DELAY  LATE_AIRCRAFT_DELAY  \\\n",
      "0               NaN             NaN            NaN                  NaN   \n",
      "1               NaN             NaN            NaN                  NaN   \n",
      "2               NaN             NaN            NaN                  NaN   \n",
      "\n",
      "   WEATHER_DELAY  \n",
      "0            NaN  \n",
      "1            NaN  \n",
      "2            NaN  \n",
      "\n",
      "[3 rows x 31 columns]\n"
     ]
    }
   ],
   "source": [
    "# fix flight codes (convert numbers to letters)\n",
    "\n",
    "good_code=flights[flights.apply(lambda row: True if (len(str(row['ORIGIN_AIRPORT']))==3)|\\\n",
    "                      (len(str(row['DESTINATION_AIRPORT']))==3)\n",
    "                      else False,axis=1)].copy()\n",
    "\n",
    "print(len(good_code))\n",
    "print(good_code.head(3))"
   ]
  },
  {
   "cell_type": "code",
   "execution_count": 31,
   "metadata": {},
   "outputs": [],
   "source": [
    "def get_code(x):\n",
    "    #print(type(x))\n",
    "    data = Airport_codes\n",
    "    code = data[data['Code_x']==int(x)]['Code_y'].item()\n",
    "    #print(type(code))\n",
    "    return code"
   ]
  },
  {
   "cell_type": "code",
   "execution_count": 32,
   "metadata": {
    "scrolled": true
   },
   "outputs": [],
   "source": [
    "issue_code['DESTINATION_AIRPORT'] = issue_code['DESTINATION_AIRPORT']\\\n",
    "                                  .apply(lambda x: get_code(x))\n"
   ]
  },
  {
   "cell_type": "code",
   "execution_count": 33,
   "metadata": {},
   "outputs": [],
   "source": [
    "issue_code['ORIGIN_AIRPORT'] = issue_code['ORIGIN_AIRPORT']\\\n",
    "                             .apply(lambda x: get_code(x))"
   ]
  },
  {
   "cell_type": "code",
   "execution_count": 35,
   "metadata": {},
   "outputs": [
    {
     "data": {
      "text/plain": [
       "4793393    BWI\n",
       "4677959    MSN\n",
       "4708932    BOS\n",
       "4748922    DFW\n",
       "4609953    DFW\n",
       "Name: DESTINATION_AIRPORT, dtype: object"
      ]
     },
     "execution_count": 35,
     "metadata": {},
     "output_type": "execute_result"
    }
   ],
   "source": [
    "issue_code['DESTINATION_AIRPORT'].sample(5)"
   ]
  },
  {
   "cell_type": "code",
   "execution_count": 36,
   "metadata": {},
   "outputs": [
    {
     "data": {
      "text/plain": [
       "4385712    SEA\n",
       "4385713    SFO\n",
       "4385714    LAS\n",
       "4385715    LAX\n",
       "4385716    SFO\n",
       "Name: ORIGIN_AIRPORT, dtype: object"
      ]
     },
     "execution_count": 36,
     "metadata": {},
     "output_type": "execute_result"
    }
   ],
   "source": [
    "issue_code['ORIGIN_AIRPORT'].head(5)"
   ]
  },
  {
   "cell_type": "code",
   "execution_count": 37,
   "metadata": {},
   "outputs": [],
   "source": [
    "clean_flights = pd.concat([good_code, issue_code], ignore_index=True)"
   ]
  },
  {
   "cell_type": "code",
   "execution_count": 41,
   "metadata": {},
   "outputs": [
    {
     "name": "stdout",
     "output_type": "stream",
     "text": [
      "origin_num_code : 0   % 0.0\n",
      "distinaton_num_code : 0   % 0.0\n"
     ]
    }
   ],
   "source": [
    "# check that data is fixed\n",
    "origin_num_code_x = clean_flights['ORIGIN_AIRPORT'].apply(lambda x: 1 if len(str(x))!=3 else 0).sum()\n",
    "\n",
    "distinaton_num_code_x = clean_flights['DESTINATION_AIRPORT'].apply(lambda x: 1 if len(str(x))!=3 else 0).sum()\n",
    "\n",
    "print('origin_num_code :',origin_num_code_x,'  %',round(origin_num_code_x/clean_flights.shape[0]*100) )\n",
    "print('distinaton_num_code :',distinaton_num_code_x,'  %',round(distinaton_num_code_x/clean_flights.shape[0]*100))"
   ]
  },
  {
   "cell_type": "code",
   "execution_count": 39,
   "metadata": {},
   "outputs": [],
   "source": [
    "# save the full_data in CSV file\n",
    "\n",
    "url = '../ML-Project/flight-delays/clean_flights.csv'\n",
    "\n",
    "clean_flights.to_csv(url,index=False)"
   ]
  },
  {
   "cell_type": "code",
   "execution_count": null,
   "metadata": {},
   "outputs": [],
   "source": []
  }
 ],
 "metadata": {
  "kernelspec": {
   "display_name": "Python 3",
   "language": "python",
   "name": "python3"
  },
  "language_info": {
   "codemirror_mode": {
    "name": "ipython",
    "version": 3
   },
   "file_extension": ".py",
   "mimetype": "text/x-python",
   "name": "python",
   "nbconvert_exporter": "python",
   "pygments_lexer": "ipython3",
   "version": "3.7.2"
  }
 },
 "nbformat": 4,
 "nbformat_minor": 2
}
